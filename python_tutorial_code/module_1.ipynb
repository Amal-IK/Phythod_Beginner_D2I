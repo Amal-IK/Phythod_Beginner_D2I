{
 "cells": [
  {
   "cell_type": "code",
   "execution_count": 2,
   "id": "fd8bdc89",
   "metadata": {},
   "outputs": [
    {
     "name": "stdout",
     "output_type": "stream",
     "text": [
      "5\n"
     ]
    }
   ],
   "source": [
    "x = 3\n",
    "y = 2\n",
    "z = x + y\n",
    "print(z)"
   ]
  },
  {
   "cell_type": "code",
   "execution_count": 3,
   "id": "67a326ad",
   "metadata": {},
   "outputs": [
    {
     "name": "stdout",
     "output_type": "stream",
     "text": [
      "5\n"
     ]
    }
   ],
   "source": [
    "num_1 = 5\n",
    "print(num_1)"
   ]
  },
  {
   "cell_type": "code",
   "execution_count": 5,
   "id": "d9f96185",
   "metadata": {},
   "outputs": [
    {
     "data": {
      "text/plain": [
       "6"
      ]
     },
     "execution_count": 5,
     "metadata": {},
     "output_type": "execute_result"
    }
   ],
   "source": [
    "num_1 = 4\n",
    "num_2 = 2\n",
    "\n",
    "answer = num_1 + num_2\n",
    "answer"
   ]
  },
  {
   "cell_type": "code",
   "execution_count": 6,
   "id": "ff8ccee0",
   "metadata": {},
   "outputs": [
    {
     "data": {
      "text/plain": [
       "7"
      ]
     },
     "execution_count": 6,
     "metadata": {},
     "output_type": "execute_result"
    }
   ],
   "source": [
    "num_1 = 4\n",
    "num_2 = 2\n",
    "\n",
    "answer = num_1 + num_2\n",
    "answer = answer + 1\n",
    "answer"
   ]
  },
  {
   "cell_type": "code",
   "execution_count": 7,
   "id": "ac831eef",
   "metadata": {},
   "outputs": [
    {
     "data": {
      "text/plain": [
       "'Amal said \"Hello\"'"
      ]
     },
     "execution_count": 7,
     "metadata": {},
     "output_type": "execute_result"
    }
   ],
   "source": [
    "var_1  = 'Amal said \"Hello\"'\n",
    "var_1"
   ]
  },
  {
   "cell_type": "code",
   "execution_count": null,
   "id": "4548aef8",
   "metadata": {},
   "outputs": [
    {
     "data": {
      "text/plain": [
       "\"He isn't clear enough\""
      ]
     },
     "execution_count": 8,
     "metadata": {},
     "output_type": "execute_result"
    }
   ],
   "source": [
    "var_2  = \"He isn't clear enough\"\n",
    "var_2\n",
    "\n",
    "#int, integer \n",
    "#str, string \n",
    "#float "
   ]
  },
  {
   "cell_type": "code",
   "execution_count": 11,
   "id": "446fefba",
   "metadata": {},
   "outputs": [
    {
     "data": {
      "text/plain": [
       "float"
      ]
     },
     "execution_count": 11,
     "metadata": {},
     "output_type": "execute_result"
    }
   ],
   "source": [
    "num_1  = 5.0\n",
    "num_2  = 10\n",
    "answer = num_2 / num_1\n",
    "answer\n",
    "answer_2 = num_2 * num_1\n",
    "answer_2\n",
    "type (answer_2)"
   ]
  },
  {
   "cell_type": "code",
   "execution_count": 12,
   "id": "2a64fd72",
   "metadata": {},
   "outputs": [
    {
     "data": {
      "text/plain": [
       "12.0"
      ]
     },
     "execution_count": 12,
     "metadata": {},
     "output_type": "execute_result"
    }
   ],
   "source": [
    "num_1  = 3.0\n",
    "num_2  = 4\n",
    "answer = num_2 * num_1\n",
    "answer"
   ]
  },
  {
   "cell_type": "code",
   "execution_count": 13,
   "id": "4274166a",
   "metadata": {},
   "outputs": [
    {
     "data": {
      "text/plain": [
       "12.56"
      ]
     },
     "execution_count": 13,
     "metadata": {},
     "output_type": "execute_result"
    }
   ],
   "source": [
    "r  = 2\n",
    "pi  = 3.14\n",
    "area = pi * r * r\n",
    "area"
   ]
  },
  {
   "cell_type": "code",
   "execution_count": 16,
   "id": "0e4f46f1",
   "metadata": {},
   "outputs": [
    {
     "data": {
      "text/plain": [
       "12.56"
      ]
     },
     "execution_count": 16,
     "metadata": {},
     "output_type": "execute_result"
    }
   ],
   "source": [
    "r  = 2\n",
    "pi  = 3.14\n",
    "area = pi * r**2\n",
    "area"
   ]
  },
  {
   "cell_type": "code",
   "execution_count": 17,
   "id": "265cfd9e",
   "metadata": {},
   "outputs": [
    {
     "data": {
      "text/plain": [
       "'Amal Data & Intelligence Manager'"
      ]
     },
     "execution_count": 17,
     "metadata": {},
     "output_type": "execute_result"
    }
   ],
   "source": [
    "# String\n",
    "name = \"Amal\"\n",
    "job = 'Data & Intelligence Manager'\n",
    "name_job = name + ' ' + job\n",
    "name_job"
   ]
  },
  {
   "cell_type": "code",
   "execution_count": null,
   "id": "f2cf518b",
   "metadata": {},
   "outputs": [
    {
     "data": {
      "text/plain": [
       "'Hi, my name is Amal, and I am a Data & Intelligence Manager'"
      ]
     },
     "execution_count": 19,
     "metadata": {},
     "output_type": "execute_result"
    }
   ],
   "source": [
    "# String\n",
    "name = \"Amal\"\n",
    "job = 'Data & Intelligence Manager'\n",
    "name_job = f\"Hi, my name is {name}, and I am a {job}\" # Example of formated string, {} << here is my value, turn it to string \n",
    "name_job\n",
    "# strings are iterable, meaning can go to a location and get the value \n",
    "# counting in python starts at 0, not at 1\n",
    "# start is inclusive\n",
    "# stop is exclusive "
   ]
  },
  {
   "cell_type": "code",
   "execution_count": 20,
   "id": "d37cc35b",
   "metadata": {},
   "outputs": [
    {
     "data": {
      "text/plain": [
       "'y nam'"
      ]
     },
     "execution_count": 20,
     "metadata": {},
     "output_type": "execute_result"
    }
   ],
   "source": [
    "phrase = name_job\n",
    "phrase [5:10]"
   ]
  },
  {
   "cell_type": "code",
   "execution_count": 22,
   "id": "8256bb53",
   "metadata": {},
   "outputs": [
    {
     "data": {
      "text/plain": [
       "'Hi, my name is Amal, and I am a Data & Intelligence Ma'"
      ]
     },
     "execution_count": 22,
     "metadata": {},
     "output_type": "execute_result"
    }
   ],
   "source": [
    "phrase [0:-5]"
   ]
  },
  {
   "cell_type": "code",
   "execution_count": 23,
   "id": "06b53113",
   "metadata": {},
   "outputs": [
    {
     "data": {
      "text/plain": [
       "'ssda903_list_1'"
      ]
     },
     "execution_count": 23,
     "metadata": {},
     "output_type": "execute_result"
    }
   ],
   "source": [
    "filename = \"ssda903_list_1.csv\"\n",
    "short_fn = filename[:-4]\n",
    "short_fn"
   ]
  }
 ],
 "metadata": {
  "kernelspec": {
   "display_name": "Python 3",
   "language": "python",
   "name": "python3"
  },
  "language_info": {
   "codemirror_mode": {
    "name": "ipython",
    "version": 3
   },
   "file_extension": ".py",
   "mimetype": "text/x-python",
   "name": "python",
   "nbconvert_exporter": "python",
   "pygments_lexer": "ipython3",
   "version": "3.12.1"
  }
 },
 "nbformat": 4,
 "nbformat_minor": 5
}
