{
 "cells": [
  {
   "cell_type": "code",
   "execution_count": 1,
   "id": "76535cad",
   "metadata": {},
   "outputs": [],
   "source": [
    "# Types of variable \n",
    "var_1 = 10 # int\n",
    "var_2 = 10.10 # float\n",
    "var_3 = \"10\" # string "
   ]
  },
  {
   "cell_type": "code",
   "execution_count": 2,
   "id": "781d2232",
   "metadata": {},
   "outputs": [
    {
     "data": {
      "text/plain": [
       "str"
      ]
     },
     "execution_count": 2,
     "metadata": {},
     "output_type": "execute_result"
    }
   ],
   "source": [
    "type(var_3)"
   ]
  },
  {
   "cell_type": "code",
   "execution_count": 6,
   "id": "66acab1b",
   "metadata": {},
   "outputs": [
    {
     "name": "stdout",
     "output_type": "stream",
     "text": [
      "Hereis variable 1: 10\n"
     ]
    }
   ],
   "source": [
    "long_srting = f\"Hereis variable 1: {var_1}\"\n",
    "print(long_srting)"
   ]
  },
  {
   "cell_type": "code",
   "execution_count": 7,
   "id": "bf215dfc",
   "metadata": {},
   "outputs": [
    {
     "data": {
      "text/plain": [
       "'r'"
      ]
     },
     "execution_count": 7,
     "metadata": {},
     "output_type": "execute_result"
    }
   ],
   "source": [
    "long_srting[2]"
   ]
  },
  {
   "cell_type": "code",
   "execution_count": 8,
   "id": "aba9b9bd",
   "metadata": {},
   "outputs": [
    {
     "data": {
      "text/plain": [
       "'rei'"
      ]
     },
     "execution_count": 8,
     "metadata": {},
     "output_type": "execute_result"
    }
   ],
   "source": [
    "#[ start : stop ]\n",
    "long_srting[2:5]"
   ]
  },
  {
   "cell_type": "code",
   "execution_count": 10,
   "id": "d4d43ba3",
   "metadata": {},
   "outputs": [
    {
     "data": {
      "text/plain": [
       "'ae:'"
      ]
     },
     "execution_count": 10,
     "metadata": {},
     "output_type": "execute_result"
    }
   ],
   "source": [
    "#[ start : stop : step ]\n",
    "long_srting[-10:-2:3]"
   ]
  },
  {
   "cell_type": "code",
   "execution_count": null,
   "id": "f0fde065",
   "metadata": {},
   "outputs": [
    {
     "data": {
      "text/plain": [
       "list"
      ]
     },
     "execution_count": 11,
     "metadata": {},
     "output_type": "execute_result"
    }
   ],
   "source": [
    "# Lists -> store list of things    24.10.2025\n",
    "# Disctionaies -> store variables or other thing in Key : value pairs \n",
    "\n",
    "list_1 = []\n",
    "type(list_1) # type of a list is 'list' \n"
   ]
  },
  {
   "cell_type": "code",
   "execution_count": 12,
   "id": "adea8f8d",
   "metadata": {},
   "outputs": [
    {
     "data": {
      "text/plain": [
       "['red', 'blue']"
      ]
     },
     "execution_count": 12,
     "metadata": {},
     "output_type": "execute_result"
    }
   ],
   "source": [
    "col_1 = [\"red\",\"blue\"]\n",
    "col_1"
   ]
  },
  {
   "cell_type": "code",
   "execution_count": 13,
   "id": "d4f9ac0a",
   "metadata": {},
   "outputs": [
    {
     "data": {
      "text/plain": [
       "['red', 'blue', ['green', 'turquoise', 'beige']]"
      ]
     },
     "execution_count": 13,
     "metadata": {},
     "output_type": "execute_result"
    }
   ],
   "source": [
    "col_1 = [\"red\",\"blue\" ,[\"green\",\"turquoise\",'beige']]\n",
    "col_1"
   ]
  },
  {
   "cell_type": "code",
   "execution_count": 14,
   "id": "001144e7",
   "metadata": {},
   "outputs": [
    {
     "data": {
      "text/plain": [
       "'red'"
      ]
     },
     "execution_count": 14,
     "metadata": {},
     "output_type": "execute_result"
    }
   ],
   "source": [
    "col_1[0]"
   ]
  },
  {
   "cell_type": "code",
   "execution_count": null,
   "id": "acd93725",
   "metadata": {},
   "outputs": [
    {
     "ename": "IndexError",
     "evalue": "list index out of range",
     "output_type": "error",
     "traceback": [
      "\u001b[31m---------------------------------------------------------------------------\u001b[39m",
      "\u001b[31mIndexError\u001b[39m                                Traceback (most recent call last)",
      "\u001b[36mCell\u001b[39m\u001b[36m \u001b[39m\u001b[32mIn[15]\u001b[39m\u001b[32m, line 1\u001b[39m\n\u001b[32m----> \u001b[39m\u001b[32m1\u001b[39m \u001b[43mcol_1\u001b[49m\u001b[43m[\u001b[49m\u001b[32;43m3\u001b[39;49m\u001b[43m]\u001b[49m\n",
      "\u001b[31mIndexError\u001b[39m: list index out of range"
     ]
    }
   ],
   "source": [
    "col_1[3] # No item at 3rd location, it finishes at 2"
   ]
  },
  {
   "cell_type": "code",
   "execution_count": 16,
   "id": "75e4b216",
   "metadata": {},
   "outputs": [
    {
     "data": {
      "text/plain": [
       "['green', 'turquoise', 'beige']"
      ]
     },
     "execution_count": 16,
     "metadata": {},
     "output_type": "execute_result"
    }
   ],
   "source": [
    "col_1[2]"
   ]
  },
  {
   "cell_type": "code",
   "execution_count": 20,
   "id": "cddd99fb",
   "metadata": {},
   "outputs": [
    {
     "data": {
      "text/plain": [
       "['purple', 'orange', ['red', 'blue', ['green', 'turquoise', 'beige']], 100]"
      ]
     },
     "execution_count": 20,
     "metadata": {},
     "output_type": "execute_result"
    }
   ],
   "source": [
    "col_1[2][::2]\n",
    "col_2 = [\"purple\",\"orange\", col_1, 100]\n",
    "col_2"
   ]
  },
  {
   "cell_type": "code",
   "execution_count": 25,
   "id": "2737d804",
   "metadata": {},
   "outputs": [
    {
     "data": {
      "text/plain": [
       "['Mai']"
      ]
     },
     "execution_count": 25,
     "metadata": {},
     "output_type": "execute_result"
    }
   ],
   "source": [
    "ex_1 = [10.2, 5, \"Amal\", [\"Mai\", 85, 7, 27]]\n",
    "ex_1[3][0]\n",
    "sub_list = ex_1[3][:-3]\n",
    "sub_list"
   ]
  },
  {
   "cell_type": "code",
   "execution_count": 26,
   "id": "fad7997b",
   "metadata": {},
   "outputs": [
    {
     "data": {
      "text/plain": [
       "['Mai']"
      ]
     },
     "execution_count": 26,
     "metadata": {},
     "output_type": "execute_result"
    }
   ],
   "source": [
    "sub_list_2 = ex_1[-1][:-3]\n",
    "sub_list_2"
   ]
  },
  {
   "cell_type": "code",
   "execution_count": null,
   "id": "b1c7eb7a",
   "metadata": {},
   "outputs": [],
   "source": [
    "# Functions and Methods \n",
    "# Function example -> print(arguments)             function(variable)\n",
    "# variable_of_type.method() <- Example of a Methods       \n",
    "\n",
    "# .append(), .extend(), .remove()  (.sort(), sorted())\n"
   ]
  },
  {
   "cell_type": "code",
   "execution_count": 29,
   "id": "ab2ee4b6",
   "metadata": {},
   "outputs": [
    {
     "name": "stdout",
     "output_type": "stream",
     "text": [
      "['red', 'blue', ['green', 'turquoise', 'beige'], 10]\n",
      "None\n"
     ]
    }
   ],
   "source": [
    "cols_1 = [\"red\",\"blue\" ,[\"green\",\"turquoise\",'beige'], 10]\n",
    "print(cols_1)\n",
    "\n",
    "cols_2 = cols_1.append(\"brown\") # mutates\n",
    "print(cols_2)"
   ]
  },
  {
   "cell_type": "code",
   "execution_count": 31,
   "id": "d95c66bc",
   "metadata": {},
   "outputs": [
    {
     "name": "stdout",
     "output_type": "stream",
     "text": [
      "None\n"
     ]
    }
   ],
   "source": [
    "cols_3 = col_2.extend(col_1)\n",
    "print(cols_3)"
   ]
  },
  {
   "cell_type": "code",
   "execution_count": 33,
   "id": "9f54405a",
   "metadata": {},
   "outputs": [
    {
     "ename": "ValueError",
     "evalue": "list.remove(x): x not in list",
     "output_type": "error",
     "traceback": [
      "\u001b[31m---------------------------------------------------------------------------\u001b[39m",
      "\u001b[31mValueError\u001b[39m                                Traceback (most recent call last)",
      "\u001b[36mCell\u001b[39m\u001b[36m \u001b[39m\u001b[32mIn[33]\u001b[39m\u001b[32m, line 1\u001b[39m\n\u001b[32m----> \u001b[39m\u001b[32m1\u001b[39m cols_4 = \u001b[43mcol_1\u001b[49m\u001b[43m.\u001b[49m\u001b[43mremove\u001b[49m\u001b[43m(\u001b[49m\u001b[33;43m\"\u001b[39;49m\u001b[33;43mred\u001b[39;49m\u001b[33;43m\"\u001b[39;49m\u001b[43m)\u001b[49m\n\u001b[32m      2\u001b[39m \u001b[38;5;28mprint\u001b[39m(cols_4)\n",
      "\u001b[31mValueError\u001b[39m: list.remove(x): x not in list"
     ]
    }
   ],
   "source": [
    "cols_4 = col_1.remove(\"red\")\n",
    "print(cols_4)"
   ]
  },
  {
   "cell_type": "code",
   "execution_count": 34,
   "id": "f884e86d",
   "metadata": {},
   "outputs": [
    {
     "data": {
      "text/plain": [
       "[2, 85, 7, 27, 1, 29, 1977]"
      ]
     },
     "execution_count": 34,
     "metadata": {},
     "output_type": "execute_result"
    }
   ],
   "source": [
    "nums = [2, 85, 7, 27, 1, 29, 1977]\n",
    "nums"
   ]
  },
  {
   "cell_type": "code",
   "execution_count": 39,
   "id": "e2d941ca",
   "metadata": {},
   "outputs": [
    {
     "data": {
      "text/plain": [
       "[1, 2, 7, 27, 29, 85, 1977]"
      ]
     },
     "execution_count": 39,
     "metadata": {},
     "output_type": "execute_result"
    }
   ],
   "source": [
    "nums.sort()\n",
    "nums"
   ]
  },
  {
   "cell_type": "code",
   "execution_count": 40,
   "id": "46ccff7e",
   "metadata": {},
   "outputs": [
    {
     "data": {
      "text/plain": [
       "[1977, 85, 29, 27, 7, 2, 1]"
      ]
     },
     "execution_count": 40,
     "metadata": {},
     "output_type": "execute_result"
    }
   ],
   "source": [
    "nums.sort(reverse=True)\n",
    "nums"
   ]
  },
  {
   "cell_type": "code",
   "execution_count": 42,
   "id": "2d6d2d7a",
   "metadata": {},
   "outputs": [
    {
     "data": {
      "text/plain": [
       "[1977, 85, 29, 27, 7, 2, 1]"
      ]
     },
     "execution_count": 42,
     "metadata": {},
     "output_type": "execute_result"
    }
   ],
   "source": [
    "sorted_nums = sorted(nums,reverse=True)\n",
    "sorted_nums"
   ]
  },
  {
   "cell_type": "code",
   "execution_count": 43,
   "id": "969a5355",
   "metadata": {},
   "outputs": [
    {
     "data": {
      "text/plain": [
       "dict"
      ]
     },
     "execution_count": 43,
     "metadata": {},
     "output_type": "execute_result"
    }
   ],
   "source": [
    "# Disctionary \n",
    "# key : value\n",
    "# keys MUST be immutable not mutable -> Key must be a either a string or a number \n",
    "\n",
    "fav_colours = {}\n",
    "type(fav_colours)\n",
    "\n"
   ]
  },
  {
   "cell_type": "code",
   "execution_count": 44,
   "id": "3d015b55",
   "metadata": {},
   "outputs": [
    {
     "data": {
      "text/plain": [
       "{'Amal': 'green', 'Mai': 'blue', 'Kodi': ['black', 'yellow']}"
      ]
     },
     "execution_count": 44,
     "metadata": {},
     "output_type": "execute_result"
    }
   ],
   "source": [
    "fav_colours = {\"Amal\":\"green\",\n",
    "               \"Mai\":\"blue\",\n",
    "               \"Kodi\":[\"black\",\"yellow\"]}\n",
    "fav_colours"
   ]
  },
  {
   "cell_type": "code",
   "execution_count": 48,
   "id": "76645d12",
   "metadata": {},
   "outputs": [
    {
     "data": {
      "text/plain": [
       "{'Amal': 'green',\n",
       " 'Mai': 'blue',\n",
       " 'Kodi': {'Monday': ['black', 'yellow'], 'Row': 'gray'}}"
      ]
     },
     "execution_count": 48,
     "metadata": {},
     "output_type": "execute_result"
    }
   ],
   "source": [
    "fav_colours = {\"Amal\":\"green\",\n",
    "               \"Mai\":\"blue\",\n",
    "               \"Kodi\":{\"Monday\":[\"black\",\"yellow\"],\n",
    "                       \"Row\":\"gray\"}}\n",
    "fav_colours"
   ]
  },
  {
   "cell_type": "code",
   "execution_count": 49,
   "id": "240afcba",
   "metadata": {},
   "outputs": [
    {
     "data": {
      "text/plain": [
       "'green'"
      ]
     },
     "execution_count": 49,
     "metadata": {},
     "output_type": "execute_result"
    }
   ],
   "source": [
    "fav_colours[\"Amal\"]"
   ]
  },
  {
   "cell_type": "code",
   "execution_count": 51,
   "id": "e17d9aef",
   "metadata": {},
   "outputs": [
    {
     "data": {
      "text/plain": [
       "'yellow'"
      ]
     },
     "execution_count": 51,
     "metadata": {},
     "output_type": "execute_result"
    }
   ],
   "source": [
    "fav_colours[\"Kodi\"][\"Monday\"][1]"
   ]
  },
  {
   "cell_type": "code",
   "execution_count": 52,
   "id": "70d8c343",
   "metadata": {},
   "outputs": [
    {
     "data": {
      "text/plain": [
       "['Amal', 'Mai', 'Kodi']"
      ]
     },
     "execution_count": 52,
     "metadata": {},
     "output_type": "execute_result"
    }
   ],
   "source": [
    "list(fav_colours.keys())"
   ]
  },
  {
   "cell_type": "code",
   "execution_count": 53,
   "id": "ad0147fd",
   "metadata": {},
   "outputs": [
    {
     "data": {
      "text/plain": [
       "['green', 'blue', {'Monday': ['black', 'yellow'], 'Row': 'gray'}]"
      ]
     },
     "execution_count": 53,
     "metadata": {},
     "output_type": "execute_result"
    }
   ],
   "source": [
    "list(fav_colours.values())"
   ]
  },
  {
   "cell_type": "code",
   "execution_count": null,
   "id": "dc176bee",
   "metadata": {},
   "outputs": [
    {
     "data": {
      "text/plain": [
       "[('Amal', 'green'),\n",
       " ('Mai', 'blue'),\n",
       " ('Kodi', {'Monday': ['black', 'yellow'], 'Row': 'gray'})]"
      ]
     },
     "execution_count": 54,
     "metadata": {},
     "output_type": "execute_result"
    }
   ],
   "source": [
    "list(fav_colours.items()) # retuns tuples <- ways to have eliments in that each is an indexable element"
   ]
  },
  {
   "cell_type": "code",
   "execution_count": 55,
   "id": "92d01779",
   "metadata": {},
   "outputs": [
    {
     "data": {
      "text/plain": [
       "{'Banana Leaf': 'Buriani',\n",
       " 'Marugame': 'Udon',\n",
       " 'McD': ['Burger', 'Chips', 'Wraps'],\n",
       " 'Home': ['Rice', 'Tea', 'Coffee']}"
      ]
     },
     "execution_count": 55,
     "metadata": {},
     "output_type": "execute_result"
    }
   ],
   "source": [
    "restaurants_food = {\"Banana Leaf\":\"Buriani\",\n",
    "               \"Marugame\":\"Udon\",\n",
    "               \"McD\":[\"Burger\",\"Chips\",\"Wraps\"],\n",
    "               \"Home\":[\"Rice\",\"Tea\",\"Coffee\"]}\n",
    "restaurants_food"
   ]
  },
  {
   "cell_type": "code",
   "execution_count": 56,
   "id": "6f23723b",
   "metadata": {},
   "outputs": [
    {
     "data": {
      "text/plain": [
       "['Banana Leaf', 'Marugame', 'McD', 'Home']"
      ]
     },
     "execution_count": 56,
     "metadata": {},
     "output_type": "execute_result"
    }
   ],
   "source": [
    "list(restaurants_food.keys())"
   ]
  },
  {
   "cell_type": "code",
   "execution_count": 57,
   "id": "37017785",
   "metadata": {},
   "outputs": [
    {
     "data": {
      "text/plain": [
       "['Buriani', 'Udon', ['Burger', 'Chips', 'Wraps'], ['Rice', 'Tea', 'Coffee']]"
      ]
     },
     "execution_count": 57,
     "metadata": {},
     "output_type": "execute_result"
    }
   ],
   "source": [
    "list(restaurants_food.values())"
   ]
  },
  {
   "cell_type": "code",
   "execution_count": 58,
   "id": "83b05b30",
   "metadata": {},
   "outputs": [
    {
     "data": {
      "text/plain": [
       "[('Banana Leaf', 'Buriani'),\n",
       " ('Marugame', 'Udon'),\n",
       " ('McD', ['Burger', 'Chips', 'Wraps']),\n",
       " ('Home', ['Rice', 'Tea', 'Coffee'])]"
      ]
     },
     "execution_count": 58,
     "metadata": {},
     "output_type": "execute_result"
    }
   ],
   "source": [
    "list(restaurants_food.items())"
   ]
  },
  {
   "cell_type": "code",
   "execution_count": 59,
   "id": "5664d746",
   "metadata": {},
   "outputs": [
    {
     "data": {
      "text/plain": [
       "{'Banana Leaf': 'Buriani',\n",
       " 'Marugame': 'Udon',\n",
       " 'McD': ['Burger', 'Chips', 'Wraps'],\n",
       " 'Home': ['Rice', 'Tea', 'Coffee'],\n",
       " 'Pitza Hut': 'Pitza'}"
      ]
     },
     "execution_count": 59,
     "metadata": {},
     "output_type": "execute_result"
    }
   ],
   "source": [
    "restaurants_food = {\"Banana Leaf\":\"Buriani\",\n",
    "               \"Marugame\":\"Udon\",\n",
    "               \"McD\":[\"Burger\",\"Chips\",\"Wraps\"],\n",
    "               \"Home\":[\"Rice\",\"Tea\",\"Coffee\"]}\n",
    "restaurants_food[\"Pitza Hut\"] = 'Pitza'\n",
    "restaurants_food"
   ]
  },
  {
   "cell_type": "code",
   "execution_count": 60,
   "id": "4eef29af",
   "metadata": {},
   "outputs": [
    {
     "data": {
      "text/plain": [
       "{'Banana Leaf': 'Buriani',\n",
       " 'Marugame': 'Udon',\n",
       " 'McD': ['Burger', 'Chips', 'Wraps'],\n",
       " 'Home': ['Rice', 'Tea', 'Coffee'],\n",
       " 'Pitza Hut': 'Pitza',\n",
       " 'Game Kade': ['Village food', 'Fish Ambulthiyal']}"
      ]
     },
     "execution_count": 60,
     "metadata": {},
     "output_type": "execute_result"
    }
   ],
   "source": [
    "restaurants_food[\"Game Kade\"] = [\"Village food\",\"Fish Ambulthiyal\"]\n",
    "restaurants_food"
   ]
  },
  {
   "cell_type": "markdown",
   "id": "17dc0c7b",
   "metadata": {},
   "source": []
  }
 ],
 "metadata": {
  "kernelspec": {
   "display_name": "Python 3",
   "language": "python",
   "name": "python3"
  },
  "language_info": {
   "codemirror_mode": {
    "name": "ipython",
    "version": 3
   },
   "file_extension": ".py",
   "mimetype": "text/x-python",
   "name": "python",
   "nbconvert_exporter": "python",
   "pygments_lexer": "ipython3",
   "version": "3.12.1"
  }
 },
 "nbformat": 4,
 "nbformat_minor": 5
}
